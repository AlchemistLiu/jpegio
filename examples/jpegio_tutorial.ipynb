{
 "cells": [
  {
   "cell_type": "markdown",
   "metadata": {},
   "source": [
    "# jpegio 사용법\n",
    "### (Last updated 2019.03.19)\n",
    "##### *如果您发现错误或有需要的功能，请随时通知我们（leedaewon@nsr.re.kr、daewon4you@gmail.com）*\n",
    "\n",
    "\n",
    "\n",
    "- `jpegio' 是一个 Python 包，它通过将 [libjpeg] （https://www.ijg.org） 中的某些 JPEG I/O 功能创建为 Python 模块（i.e.，wrapping）API，该模块在 C 语言中实现.\n",
    "- 参考了希腊ITI-CERTH研究所[MKLab]（https://mklab.iti.gr）提供的[https://github.com/MKLab-ITI/image-forensics）源代码.\n",
    "- Uber research也提供 [类似代码] （https://github.com/uber-research/jpeg2dct）\n",
    "- 使用 [Cython] （https://cython.org/） 从 C 代码生成 Python 模块.\n",
    "- 微软 Windows 使用 [libjpeg-turbo]（https://libjpeg-turbo.org）.\n",
    "- UNIX 系列操作系统包括编译“libjpeg”源代码的过程，包括安装“jpegio”包的过程.\n",
    "\n",
    "\n"
   ]
  },
  {
   "cell_type": "code",
   "execution_count": 1,
   "metadata": {},
   "outputs": [],
   "source": [
    "import jpegio as jio"
   ]
  },
  {
   "cell_type": "markdown",
   "metadata": {},
   "source": [
    "#### 检索 JPEG 图像\n",
    "- 默认情况下，解压缩的 JPEG 数据通过“解压缩Jpeg”对象进行处理.\n",
    "- 您还可以使用其他对象（e.g.，“ZigzagDct1d”）将 DCT 系数视为单独的数据结构（后面将详细介绍）)."
   ]
  },
  {
   "cell_type": "code",
   "execution_count": 2,
   "metadata": {},
   "outputs": [
    {
     "data": {
      "text/plain": [
       "jpegio.decompressedjpeg.DecompressedJpeg"
      ]
     },
     "execution_count": 2,
     "metadata": {},
     "output_type": "execute_result"
    }
   ],
   "source": [
    "fpath = \"../tests/images/cherries01.jpg\"  # JPEG 文件地址\n",
    "jpeg = jio.read(fpath)\n",
    "type(jpeg)"
   ]
  },
  {
   "cell_type": "markdown",
   "metadata": {},
   "source": [
    "#### 检查图像大小"
   ]
  },
  {
   "cell_type": "code",
   "execution_count": 3,
   "metadata": {},
   "outputs": [
    {
     "data": {
      "text/plain": [
       "(756, 756)"
      ]
     },
     "execution_count": 3,
     "metadata": {},
     "output_type": "execute_result"
    }
   ],
   "source": [
    "jpeg.image_width, jpeg.image_width"
   ]
  },
  {
   "cell_type": "markdown",
   "metadata": {},
   "source": [
    "#### 检查 YCbCr 通道数"
   ]
  },
  {
   "cell_type": "code",
   "execution_count": 4,
   "metadata": {},
   "outputs": [
    {
     "data": {
      "text/plain": [
       "3"
      ]
     },
     "execution_count": 4,
     "metadata": {},
     "output_type": "execute_result"
    }
   ],
   "source": [
    "jpeg.num_components"
   ]
  },
  {
   "cell_type": "markdown",
   "metadata": {},
   "source": [
    "#### 访问 DCT 系数\n",
    "- 成员变量名为“coef_arrays”，是 Python 的默认列表对象.\n",
    "- “coef_arrays”列表包含每个通道对应的 DCT 系数数组.\n",
    "- 每个 DCT 系数数组都是二维“numpy.ndarray”对象.\n",
    "- 不将 DCT 系数数组作为三维“numpy.ndarray”进行管理的原因是，DCT 系数数组的大小可能因通道而异.\n",
    "- 如果 DCT 系数数组的大小因通道而异，则在 JPEG 压缩过程中对 CbCr 通道应用了 down sampling。"
   ]
  },
  {
   "cell_type": "code",
   "execution_count": 5,
   "metadata": {},
   "outputs": [
    {
     "data": {
      "text/plain": [
       "list"
      ]
     },
     "execution_count": 5,
     "metadata": {},
     "output_type": "execute_result"
    }
   ],
   "source": [
    "type(jpeg.coef_arrays) "
   ]
  },
  {
   "cell_type": "code",
   "execution_count": 6,
   "metadata": {},
   "outputs": [
    {
     "data": {
      "text/plain": [
       "numpy.ndarray"
      ]
     },
     "execution_count": 6,
     "metadata": {},
     "output_type": "execute_result"
    }
   ],
   "source": [
    "type(jpeg.coef_arrays[0])"
   ]
  },
  {
   "cell_type": "code",
   "execution_count": 7,
   "metadata": {},
   "outputs": [
    {
     "data": {
      "text/plain": [
       "3"
      ]
     },
     "execution_count": 7,
     "metadata": {},
     "output_type": "execute_result"
    }
   ],
   "source": [
    "len(jpeg.coef_arrays)  # 等于通道数"
   ]
  },
  {
   "cell_type": "code",
   "execution_count": 8,
   "metadata": {},
   "outputs": [
    {
     "name": "stdout",
     "output_type": "stream",
     "text": [
      "2\n",
      "2\n",
      "2\n"
     ]
    }
   ],
   "source": [
    "print(jpeg.coef_arrays[0].ndim)  # 第一个 DCT 系数数组中的维度\n",
    "print(jpeg.coef_arrays[1].ndim)  # 第二个 DCT 系数数组中的维度\n",
    "print(jpeg.coef_arrays[2].ndim)  # 第三个 DCT 系数数组的维度"
   ]
  },
  {
   "cell_type": "code",
   "execution_count": 9,
   "metadata": {},
   "outputs": [
    {
     "name": "stdout",
     "output_type": "stream",
     "text": [
      "[Channel #1] The 1st DCT coef. block\n",
      "[[-567   11  -47   -6    4    2    1    1]\n",
      " [ -81  -41   22   13   -5   -2   -2   -4]\n",
      " [  19   15   10  -12    3   -1    1    1]\n",
      " [   8   -7   -7   -4    3   -3    0   -2]\n",
      " [  -7   -5    6    3   -2   -2   -2   -2]\n",
      " [  10    0  -10   -5   -3    1   -1   -1]\n",
      " [  -2   -4   -1    2    2   -2   -2    1]\n",
      " [  -3    0    4   -3   -3    0   -1   -1]]\n",
      "[Channel #2] The 1st DCT coef. block\n",
      "[[-58   6   1   8   0   0   2   0]\n",
      " [ 11   5  -4   3   6  -3   1  -2]\n",
      " [  5  -7  -2   1  -2  -2  -2   0]\n",
      " [ -3  -3   5  -1  -3   1   2   2]\n",
      " [  3   0  -6  -2   2   1  -1   0]\n",
      " [  4  -1   2   1  -1  -3  -2  -1]\n",
      " [ -2   0   2   0   0  -1   0   0]\n",
      " [  2   0  -2  -1   1   2   1  -1]]\n",
      "[Channel #3] The 1st DCT coef. block\n",
      "[[-4 -4 -3 -2  0  1  2 -1]\n",
      " [-2 -2 -3  3  0  1 -2  0]\n",
      " [-9  9  2 -1  3 -1  0  0]\n",
      " [ 4  1 -2 -5 -2  0  0  0]\n",
      " [-3 -2 -2 -1  0 -1  1  0]\n",
      " [-2  1  1 -1  1  1  0  0]\n",
      " [ 1 -2 -1 -1  0  1  0 -1]\n",
      " [ 0 -2  0  0  0 -1  0  0]]\n"
     ]
    }
   ],
   "source": [
    "# 每个通道仅输出第一个 DCT 计数块\n",
    "for i in range(jpeg.num_components):\n",
    "    coef = jpeg.coef_arrays[i]\n",
    "    print(\"[Channel #%d] The 1st DCT coef. block\"%(i+1))\n",
    "    print(coef[:8, :8])"
   ]
  },
  {
   "cell_type": "code",
   "execution_count": 10,
   "metadata": {},
   "outputs": [
    {
     "name": "stdout",
     "output_type": "stream",
     "text": [
      "[Channel #1] Size of DCT coef. array: (504, 760)\n",
      "[Channel #2] Size of DCT coef. array: (256, 384)\n",
      "[Channel #3] Size of DCT coef. array: (256, 384)\n"
     ]
    }
   ],
   "source": [
    "# 每个通道的第一个 DCT 系数数组的大小输出\n",
    "# （您会注意到 DCT 数组的大小不同）\n",
    "for i in range(jpeg.num_components):\n",
    "    coef = jpeg.coef_arrays[i]\n",
    "    print(\"[Channel #%d] Size of DCT coef. array: %s\"%(i+1, coef.shape))"
   ]
  },
  {
   "cell_type": "markdown",
   "metadata": {},
   "source": [
    "#### DCT 系数“numpy.ndarray”阵列形状变形\n",
    "- 为了更有效地使用 DCT 系数数组，需要修改数组形状。\n",
    "- 例如，如果要逐块处理索引，则更易于使用索引（块行、块列、8x8 排列行、8x8 排列列）.\n",
    "- 正确使用“numpy.reshape”和“numpy.transpose”.\n",
    "-“numpy.reshape”和“numpy.transpose”只更改数据视图，而不更改内部内存结构，因此无需担心性能问题。."
   ]
  },
  {
   "cell_type": "code",
   "execution_count": 11,
   "metadata": {},
   "outputs": [
    {
     "name": "stdout",
     "output_type": "stream",
     "text": [
      "63 95\n"
     ]
    }
   ],
   "source": [
    "# 当您希望以 8x8 块为单位访问数组时，\n",
    "# 如下图所示，可以改变数组的外观.\n",
    "\n",
    "coef = jpeg.coef_arrays[0]  # 第一个通道 DCT 系数数组\n",
    "nr_blk = coef.shape[0] // 8  # 8x8 块单位行数\n",
    "nc_blk = coef.shape[1] // 8  # 8x8 块单位列数\n",
    "print(nr_blk, nc_blk)"
   ]
  },
  {
   "cell_type": "code",
   "execution_count": 12,
   "metadata": {},
   "outputs": [
    {
     "name": "stdout",
     "output_type": "stream",
     "text": [
      "(63, 8, 95, 8)\n"
     ]
    }
   ],
   "source": [
    "# 以八个单位切割十个块（nc_blk）,\n",
    "# 再次将块列切为 8 个块行数（nr_blk）.\n",
    "\n",
    "coef_blk = coef.reshape(nr_blk, 8, nc_blk, 8)\n",
    "print(coef_blk.shape)"
   ]
  },
  {
   "cell_type": "code",
   "execution_count": 13,
   "metadata": {},
   "outputs": [
    {
     "name": "stdout",
     "output_type": "stream",
     "text": [
      "(63, 95, 8, 8)\n"
     ]
    }
   ],
   "source": [
    "# 重新定位阵列的轴，使索引更易于使用.\n",
    "# 无需考虑数据在内部的存储方式,\n",
    "#您只需要将索引视为所需（反正内部数据存储器是一维数组）\n",
    "\n",
    "coef_blk = coef_blk.transpose(0, 2, 1, 3)\n",
    "print(coef_blk.shape)"
   ]
  },
  {
   "cell_type": "code",
   "execution_count": 14,
   "metadata": {},
   "outputs": [
    {
     "data": {
      "text/plain": [
       "array([[-644,   -6,    3,  -11,    2,   -2,    7,   -1],\n",
       "       [ -26,  -27,   28,    5,   -5,    0,   -4,    0],\n",
       "       [  -4,   -6,    7,   15,   -1,   -2,   -4,    3],\n",
       "       [   2,   17,  -17,    0,   -1,    1,    1,    0],\n",
       "       [   0,   -8,    5,    0,    4,   -2,   -2,    1],\n",
       "       [  -5,   -8,    6,    4,   -1,    0,   -3,   -2],\n",
       "       [   1,    2,   -3,   -2,   -1,    0,    3,    0],\n",
       "       [   2,    1,    4,   -1,    0,   -2,   -1,   -1]], dtype=int16)"
      ]
     },
     "execution_count": 14,
     "metadata": {},
     "output_type": "execute_result"
    }
   ],
   "source": [
    "# 第 3 行第 2 列中的 DCT 系数块\n",
    "coef_blk[3, 2, :, :]"
   ]
  },
  {
   "cell_type": "code",
   "execution_count": 15,
   "metadata": {},
   "outputs": [
    {
     "data": {
      "text/plain": [
       "array([[-674,    0,  -51,   -3,   16,   -3,    0,   -3],\n",
       "       [ -61,   15,  -58,   14,   15,   10,   -4,    2],\n",
       "       [  -4,  -11,  -13,    2,   15,    4,    3,    1],\n",
       "       [   8,   -2,  -13,   -3,    5,   -2,   -2,    1],\n",
       "       [   2,    2,   -2,   -7,    3,   -5,   -2,    0],\n",
       "       [ -16,    6,    8,    1,   -7,   -5,    3,    0],\n",
       "       [  -2,   -1,    8,    1,   -9,   -4,    0,    1],\n",
       "       [   4,    0,   -5,   -3,    5,   -1,    5,    0]], dtype=int16)"
      ]
     },
     "execution_count": 15,
     "metadata": {},
     "output_type": "execute_result"
    }
   ],
   "source": [
    "# 第 10 行第 10 列中的 DCT 系数块\n",
    "coef_blk[10, 10, :, :]"
   ]
  },
  {
   "cell_type": "code",
   "execution_count": 16,
   "metadata": {},
   "outputs": [
    {
     "data": {
      "text/plain": [
       "array([[-680,  -29,    7,   -8,   -2,   -3,   -1,    4],\n",
       "       [ -19,  -28,    6,   12,   -4,    3,    0,    2],\n",
       "       [  -5,  -14,    0,    9,    1,   -2,   -1,    1],\n",
       "       [   0,    8,    6,   -5,   -1,   -4,    0,    4],\n",
       "       [  -2,   -6,    1,    3,   -5,    0,    0,   -2],\n",
       "       [  -8,   -5,    0,    5,    6,   -3,    2,    0],\n",
       "       [   1,   -1,    0,    1,   -1,    0,    1,    2],\n",
       "       [   0,    3,    1,   -3,   -3,   -1,    0,    0]], dtype=int16)"
      ]
     },
     "execution_count": 16,
     "metadata": {},
     "output_type": "execute_result"
    }
   ],
   "source": [
    "# 只需将块索引放在下面即可.\n",
    "coef_blk[3, 4]"
   ]
  },
  {
   "cell_type": "markdown",
   "metadata": {},
   "source": [
    "#### 按渠道查看信息\n",
    "- 要查看 JPEG 频道特定信息，请使用成员变量“decompressedJpeg”中的“comp_info”.\n",
    "- 包含与 Downsampling 相关的各种信息，尤其是在处理在 CbCr 通道中应用多环的 JPEG 时，可以检查大小信息。.\n",
    "- 例如，“通信信息”对象的“v_samp_factor”和“h_samp_factor”是 YCbCr 中每个通道的 downsampling 比率。如果您只需要在 downsampling 后创建图像大小，则可以使用“downsampled_width”和“downsampled_height”对象。."
   ]
  },
  {
   "cell_type": "code",
   "execution_count": 17,
   "metadata": {},
   "outputs": [
    {
     "data": {
      "text/plain": [
       "list"
      ]
     },
     "execution_count": 17,
     "metadata": {},
     "output_type": "execute_result"
    }
   ],
   "source": [
    "# comp_info列表对象，包含特定于每个通道的客户端信息对象.\n",
    "# \"component\"对应于 \"channel\".\n",
    "\n",
    "type(jpeg.comp_info)"
   ]
  },
  {
   "cell_type": "code",
   "execution_count": 18,
   "metadata": {},
   "outputs": [
    {
     "data": {
      "text/plain": [
       "jpegio.componentinfo.ComponentInfo"
      ]
     },
     "execution_count": 18,
     "metadata": {},
     "output_type": "execute_result"
    }
   ],
   "source": [
    "type(jpeg.comp_info[0])  # ComponentInfo 对象"
   ]
  },
  {
   "cell_type": "code",
   "execution_count": 19,
   "metadata": {},
   "outputs": [
    {
     "data": {
      "text/plain": [
       "<jpegio.componentinfo.ComponentInfo at 0x1aa7003bca8>"
      ]
     },
     "execution_count": 19,
     "metadata": {},
     "output_type": "execute_result"
    }
   ],
   "source": [
    "jpeg.comp_info[0]  # 第一个channel的ComponentInfo"
   ]
  },
  {
   "cell_type": "code",
   "execution_count": 20,
   "metadata": {},
   "outputs": [
    {
     "name": "stdout",
     "output_type": "stream",
     "text": [
      "[Component #1]\n",
      "Quantization table number: 0\n",
      "DC table number: 0\n",
      "AC table number: 0\n",
      "Width after downsampling: 756\n",
      "Height after downsampling: 504\n",
      "Width in blocks: 95\n",
      "Height in blocks: 63\n",
      "Vertical sampling factor: 2\n",
      "Horizontal sampling factor: 2\n",
      "\n",
      "[Component #2]\n",
      "Quantization table number: 1\n",
      "DC table number: 1\n",
      "AC table number: 1\n",
      "Width after downsampling: 378\n",
      "Height after downsampling: 252\n",
      "Width in blocks: 48\n",
      "Height in blocks: 32\n",
      "Vertical sampling factor: 1\n",
      "Horizontal sampling factor: 1\n",
      "\n",
      "[Component #3]\n",
      "Quantization table number: 1\n",
      "DC table number: 1\n",
      "AC table number: 1\n",
      "Width after downsampling: 378\n",
      "Height after downsampling: 252\n",
      "Width in blocks: 48\n",
      "Height in blocks: 32\n",
      "Vertical sampling factor: 1\n",
      "Horizontal sampling factor: 1\n",
      "\n"
     ]
    }
   ],
   "source": [
    "for ci in jpeg.comp_info:\n",
    "    print(\"[Component #%d]\"%(ci.component_id))\n",
    "    print(\"Quantization table number:\", ci.quant_tbl_no)\n",
    "    print(\"DC table number:\", ci.dc_tbl_no)\n",
    "    print(\"AC table number:\", ci.ac_tbl_no)\n",
    "    print(\"Width after downsampling:\", ci.downsampled_width)  # 缩减采样后的图像水平大小\n",
    "    print(\"Height after downsampling:\", ci.downsampled_height)  # 缩减像素采样后的图像垂直大小\n",
    "    print(\"Width in blocks:\", ci.width_in_blocks)  # 块行数\n",
    "    print(\"Height in blocks:\", ci.height_in_blocks)  # 10 个块\n",
    "    print(\"Vertical sampling factor:\", ci.h_samp_factor)  # 行采样因子\n",
    "    print(\"Horizontal sampling factor:\", ci.v_samp_factor)  # 热采样因子\n",
    "    print()"
   ]
  },
  {
   "cell_type": "markdown",
   "metadata": {},
   "source": [
    "#### 非零 DCT 交流系数（非零 DCT 交流系数）的数量  \n",
    "- 在 8x8 DCT 系数块中，第一个系数（第 0 行 0 列）称为直流系数，其余系数称为交流系数.\n",
    "- 由于大多数触及 JPEG DCT 系数的固加诺格拉菲工具都针对交流系数，因此需要获取除直流系数之外的交流系数数.\n",
    "- “jpegio”提供名为“count_nnz_ac”的成员标签。“count_nnz_ac”告诉您所有 DCT 系数块中非零交流系数的数量。也就是说，除直流系数外，从其余系数中求出非零系数的数量."
   ]
  },
  {
   "cell_type": "code",
   "execution_count": 21,
   "metadata": {},
   "outputs": [
    {
     "data": {
      "text/plain": [
       "476659"
      ]
     },
     "execution_count": 21,
     "metadata": {},
     "output_type": "execute_result"
    }
   ],
   "source": [
    "jpeg.count_nnz_ac()"
   ]
  },
  {
   "cell_type": "markdown",
   "metadata": {},
   "source": [
    "- 如果想要为每个通道获取非零交流系数的数量，请使用下面的代码。"
   ]
  },
  {
   "cell_type": "code",
   "execution_count": 22,
   "metadata": {},
   "outputs": [
    {
     "name": "stdout",
     "output_type": "stream",
     "text": [
      "[Channel #1] Number of non-zero DCT AC coefficients: 327921\n",
      "[Channel #2] Number of non-zero DCT AC coefficients: 76925\n",
      "[Channel #3] Number of non-zero DCT AC coefficients: 71813\n"
     ]
    }
   ],
   "source": [
    "import numpy as np\n",
    "\n",
    "for i in range(jpeg.num_components):\n",
    "    coef = jpeg.coef_arrays[i]\n",
    "    nnz_total = np.count_nonzero(coef)  # 所有 DCT 系数中的非零系数数\n",
    "    nnz_dc = np.count_nonzero(coef[::8, ::8])  # 非零直流系数数\n",
    "    print(\"[Channel #%d] Number of non-zero DCT AC coefficients: %d\"%(i+1, nnz_total - nnz_dc))"
   ]
  },
  {
   "cell_type": "markdown",
   "metadata": {},
   "source": [
    "#### 通过 Zig-Zag 扫描将 DCT 系数读入一维数组\n",
    "- 根据需要，可能需要以 zig-zag 扫描方式检索的 DCT 系数的一维数组。.\n",
    "- 在 Python 中逐块进行 zig-zag 扫描处理可能会降低性能.\n",
    "- jpegio 提供“ZigzagDct1d”类，这是“DecompressedJpeg”的子类。.\n",
    "-要将 JPEG 读为“ZigzagDct1d”对象，必须指定一个标志."
   ]
  },
  {
   "cell_type": "code",
   "execution_count": 23,
   "metadata": {},
   "outputs": [],
   "source": [
    "# 顺便说一下，DecompressedJpeg 是 jpegio.被指定为DECOMPRESSED.\n",
    "jpeg_zz = jio.read(fpath, jio.ZIGZAG_DCT_1D)"
   ]
  },
  {
   "cell_type": "code",
   "execution_count": 24,
   "metadata": {},
   "outputs": [
    {
     "data": {
      "text/plain": [
       "jpegio.zigzagdctjpeg.ZigzagDct1d"
      ]
     },
     "execution_count": 24,
     "metadata": {},
     "output_type": "execute_result"
    }
   ],
   "source": [
    "type(jpeg_zz)"
   ]
  },
  {
   "cell_type": "code",
   "execution_count": 25,
   "metadata": {},
   "outputs": [
    {
     "data": {
      "text/plain": [
       "(63, 95, 64)"
      ]
     },
     "execution_count": 25,
     "metadata": {},
     "output_type": "execute_result"
    }
   ],
   "source": [
    "coef = jpeg_zz.coef_arrays[0]\n",
    "coef.shape"
   ]
  },
  {
   "cell_type": "markdown",
   "metadata": {},
   "source": [
    "- 可以看出，DCT 系数数组中最后一个维度的大小为 64（一维数组大小，而不是 8x8 数组的二维）.\n",
    "- 以下是 Python 代码与 zig-zag 扫描性能的比较."
   ]
  },
  {
   "cell_type": "code",
   "execution_count": 26,
   "metadata": {},
   "outputs": [
    {
     "name": "stdout",
     "output_type": "stream",
     "text": [
      "[File: arborgreens01.jpg]\n",
      "[Time] C-optimized: 0.008000, Naive Python: 0.441206\n",
      "\n",
      "[File: arborgreens02.jpg]\n",
      "[Time] C-optimized: 0.010014, Naive Python: 0.406220\n",
      "\n",
      "[File: arborgreens03.jpg]\n",
      "[Time] C-optimized: 0.012001, Naive Python: 0.442000\n",
      "\n",
      "[File: arborgreens04.jpg]\n",
      "[Time] C-optimized: 0.009000, Naive Python: 0.423001\n",
      "\n",
      "[File: arborgreens05.jpg]\n",
      "[Time] C-optimized: 0.009999, Naive Python: 0.453000\n",
      "\n",
      "[File: arborgreens06.jpg]\n",
      "[Time] C-optimized: 0.011000, Naive Python: 0.484000\n",
      "\n",
      "[File: arborgreens07.jpg]\n",
      "[Time] C-optimized: 0.009002, Naive Python: 0.483999\n",
      "\n",
      "[File: arborgreens08.jpg]\n",
      "[Time] C-optimized: 0.010000, Naive Python: 0.477998\n",
      "\n",
      "[File: arborgreens09.jpg]\n",
      "[Time] C-optimized: 0.010000, Naive Python: 0.483999\n",
      "\n",
      "[File: arborgreens10.jpg]\n",
      "[Time] C-optimized: 0.009001, Naive Python: 0.490000\n",
      "\n",
      "[File: cherries01.jpg]\n",
      "[Time] C-optimized: 0.008000, Naive Python: 0.468999\n",
      "\n",
      "[File: cherries02.jpg]\n",
      "[Time] C-optimized: 0.011000, Naive Python: 0.476000\n",
      "\n",
      "[File: cherries03.jpg]\n",
      "[Time] C-optimized: 0.010000, Naive Python: 0.466415\n",
      "\n",
      "[File: cherries04.jpg]\n",
      "[Time] C-optimized: 0.010000, Naive Python: 0.436000\n",
      "\n",
      "[File: cherries05.jpg]\n",
      "[Time] C-optimized: 0.010000, Naive Python: 0.418001\n",
      "\n",
      "[File: cherries06.jpg]\n",
      "[Time] C-optimized: 0.010999, Naive Python: 0.453000\n",
      "\n",
      "[File: cherries07.jpg]\n",
      "[Time] C-optimized: 0.010002, Naive Python: 0.433998\n",
      "\n",
      "[File: cherries08.jpg]\n",
      "[Time] C-optimized: 0.009000, Naive Python: 0.436000\n",
      "\n",
      "[File: cherries09.jpg]\n",
      "[Time] C-optimized: 0.009000, Naive Python: 0.429001\n",
      "\n",
      "[File: cherries10.jpg]\n",
      "[Time] C-optimized: 0.008991, Naive Python: 0.460000\n",
      "\n",
      "[File: football01.jpg]\n",
      "[Time] C-optimized: 0.010000, Naive Python: 0.432000\n",
      "\n",
      "[File: football02.jpg]\n",
      "[Time] C-optimized: 0.008999, Naive Python: 0.438001\n",
      "\n",
      "[File: football03.jpg]\n",
      "[Time] C-optimized: 0.009000, Naive Python: 0.428000\n",
      "\n",
      "[File: football04.jpg]\n",
      "[Time] C-optimized: 0.009000, Naive Python: 0.420000\n",
      "\n",
      "[File: football05.jpg]\n",
      "[Time] C-optimized: 0.010000, Naive Python: 0.451000\n",
      "\n",
      "[File: football06.jpg]\n",
      "[Time] C-optimized: 0.010000, Naive Python: 0.460000\n",
      "\n",
      "[File: football07.jpg]\n",
      "[Time] C-optimized: 0.011000, Naive Python: 0.434000\n",
      "\n",
      "[File: football08.jpg]\n",
      "[Time] C-optimized: 0.010000, Naive Python: 0.416000\n",
      "\n",
      "[File: football09.jpg]\n",
      "[Time] C-optimized: 0.010000, Naive Python: 0.442000\n",
      "\n",
      "[File: football10.jpg]\n",
      "[Time] C-optimized: 0.010000, Naive Python: 0.482999\n",
      "\n",
      "[File: greenlake01.jpg]\n",
      "[Time] C-optimized: 0.009000, Naive Python: 0.484000\n",
      "\n",
      "[File: greenlake02.jpg]\n",
      "[Time] C-optimized: 0.010000, Naive Python: 0.465000\n",
      "\n",
      "[File: greenlake03.jpg]\n",
      "[Time] C-optimized: 0.009000, Naive Python: 0.487000\n",
      "\n",
      "[File: greenlake04.jpg]\n",
      "[Time] C-optimized: 0.008000, Naive Python: 0.476999\n",
      "\n",
      "[File: greenlake05.jpg]\n",
      "[Time] C-optimized: 0.010000, Naive Python: 0.493000\n",
      "\n",
      "[File: greenlake06.jpg]\n",
      "[Time] C-optimized: 0.009000, Naive Python: 0.479001\n",
      "\n",
      "[File: greenlake07.jpg]\n",
      "[Time] C-optimized: 0.009000, Naive Python: 0.469999\n",
      "\n",
      "[File: greenlake08.jpg]\n",
      "[Time] C-optimized: 0.009001, Naive Python: 0.480999\n",
      "\n",
      "[File: greenlake09.jpg]\n",
      "[Time] C-optimized: 0.009000, Naive Python: 0.482000\n",
      "\n",
      "[File: greenlake10.jpg]\n",
      "[Time] C-optimized: 0.011000, Naive Python: 0.488000\n",
      "\n",
      "[File: test01.jpg]\n",
      "[Time] C-optimized: 0.014000, Naive Python: 0.801999\n",
      "\n",
      "[File: test02.jpg]\n",
      "[Time] C-optimized: 0.027008, Naive Python: 2.598993\n",
      "\n",
      "[File: test03.jpg]\n",
      "[Time] C-optimized: 0.011000, Naive Python: 1.604000\n",
      "\n",
      "[File: test04.jpg]\n",
      "[Time] C-optimized: 0.007000, Naive Python: 0.652999\n",
      "\n",
      "[File: test05.jpg]\n",
      "[Time] C-optimized: 0.008001, Naive Python: 1.138000\n",
      "\n",
      "[File: test06.jpg]\n",
      "[Time] C-optimized: 0.045999, Naive Python: 2.634001\n",
      "\n",
      "[File: test07.jpg]\n",
      "[Time] C-optimized: 0.049999, Naive Python: 2.599001\n",
      "\n",
      "[File: test08.jpg]\n",
      "[Time] C-optimized: 0.047000, Naive Python: 2.514000\n",
      "\n",
      "[File: test09.jpg]\n",
      "[Time] C-optimized: 0.048000, Naive Python: 2.492000\n",
      "\n",
      "[File: test10.jpg]\n",
      "[Time] C-optimized: 0.046000, Naive Python: 2.609999\n",
      "\n"
     ]
    }
   ],
   "source": [
    "import os\n",
    "import glob\n",
    "import time\n",
    "\n",
    "BS = 8  # Size of the DCT square block width\n",
    "\n",
    "list_fpaths = []\n",
    "\n",
    "for fpath in glob.glob(os.path.join('../tests/images', '*.jpg')):\n",
    "    list_fpaths.append(fpath)\n",
    "        \n",
    "for fpath in list_fpaths:\n",
    "        # Read DCT with ZigzagDct1d\n",
    "        time_beg_zz = time.time()\n",
    "        jpeg_zz = jio.read(fpath, jio.ZIGZAG_DCT_1D)\n",
    "        list_coef_zz = []\n",
    "        for c in range(jpeg_zz.num_components):                \n",
    "            nrows_blk, ncols_blk = jpeg_zz.get_coef_block_array_shape(c)\n",
    "\n",
    "            arr_zz = jpeg_zz.coef_arrays[c].reshape(nrows_blk*ncols_blk, BS*BS)\n",
    "            list_coef_zz.append(arr_zz)\n",
    "        # end of for\n",
    "        time_elapsed_zz = time.time() - time_beg_zz\n",
    "\n",
    "        # Read DCT with DecompressedJpeg\n",
    "        time_beg_de = time.time()\n",
    "        jpeg_de = jio.read(fpath, jio.DECOMPRESSED)\n",
    "        list_coef_de = []\n",
    "        for c in range(jpeg_de.num_components):\n",
    "            arr_de = jpeg_de.coef_arrays[c]\n",
    "            nrows_blk, ncols_blk = jpeg_de.get_coef_block_array_shape(c)\n",
    "            arr_de = arr_de.reshape(nrows_blk, BS, ncols_blk, BS)\n",
    "            arr_de = arr_de.transpose(0, 2, 1, 3)\n",
    "            arr_de = arr_de.reshape(nrows_blk, ncols_blk, BS, BS)\n",
    "\n",
    "            zz_de = np.zeros((nrows_blk, ncols_blk, BS*BS),\n",
    "                             dtype=np.int16)\n",
    "\n",
    "            # Zigzag scanning over DCT blocks.\n",
    "            for i in range(nrows_blk):\n",
    "                for j in range(ncols_blk):\n",
    "                    zz_de[i, j][0] = arr_de[i, j][0, 0]\n",
    "\n",
    "                    zz_de[i, j][1] = arr_de[i, j][0, 1]\n",
    "                    zz_de[i, j][2] = arr_de[i, j][1, 0]\n",
    "\n",
    "                    zz_de[i, j][3] = arr_de[i, j][2, 0]\n",
    "                    zz_de[i, j][4] = arr_de[i, j][1, 1]\n",
    "                    zz_de[i, j][5] = arr_de[i, j][0, 2]\n",
    "\n",
    "                    zz_de[i, j][6] = arr_de[i, j][0, 3]\n",
    "                    zz_de[i, j][7] = arr_de[i, j][1, 2]\n",
    "                    zz_de[i, j][8] = arr_de[i, j][2, 1]\n",
    "                    zz_de[i, j][9] = arr_de[i, j][3, 0]\n",
    "\n",
    "                    zz_de[i, j][10] = arr_de[i, j][4, 0]\n",
    "                    zz_de[i, j][11] = arr_de[i, j][3, 1]\n",
    "                    zz_de[i, j][12] = arr_de[i, j][2, 2]\n",
    "                    zz_de[i, j][13] = arr_de[i, j][1, 3]\n",
    "                    zz_de[i, j][14] = arr_de[i, j][0, 4]\n",
    "\n",
    "                    zz_de[i, j][15] = arr_de[i, j][0, 5]\n",
    "                    zz_de[i, j][16] = arr_de[i, j][1, 4]\n",
    "                    zz_de[i, j][17] = arr_de[i, j][2, 3]\n",
    "                    zz_de[i, j][18] = arr_de[i, j][3, 2]\n",
    "                    zz_de[i, j][19] = arr_de[i, j][4, 1]\n",
    "                    zz_de[i, j][20] = arr_de[i, j][5, 0]\n",
    "\n",
    "                    zz_de[i, j][21] = arr_de[i, j][6, 0]\n",
    "                    zz_de[i, j][22] = arr_de[i, j][5, 1]\n",
    "                    zz_de[i, j][23] = arr_de[i, j][4, 2]\n",
    "                    zz_de[i, j][24] = arr_de[i, j][3, 3]\n",
    "                    zz_de[i, j][25] = arr_de[i, j][2, 4]\n",
    "                    zz_de[i, j][26] = arr_de[i, j][1, 5]\n",
    "                    zz_de[i, j][27] = arr_de[i, j][0, 6]\n",
    "\n",
    "                    zz_de[i, j][28] = arr_de[i, j][0, 7]\n",
    "                    zz_de[i, j][29] = arr_de[i, j][1, 6]\n",
    "                    zz_de[i, j][30] = arr_de[i, j][2, 5]\n",
    "                    zz_de[i, j][31] = arr_de[i, j][3, 4]\n",
    "                    zz_de[i, j][32] = arr_de[i, j][4, 3]\n",
    "                    zz_de[i, j][33] = arr_de[i, j][5, 2]\n",
    "                    zz_de[i, j][34] = arr_de[i, j][6, 1]\n",
    "                    zz_de[i, j][35] = arr_de[i, j][7, 0]\n",
    "\n",
    "                    zz_de[i, j][36] = arr_de[i, j][7, 1]\n",
    "                    zz_de[i, j][37] = arr_de[i, j][6, 2]\n",
    "                    zz_de[i, j][38] = arr_de[i, j][5, 3]\n",
    "                    zz_de[i, j][39] = arr_de[i, j][4, 4]\n",
    "                    zz_de[i, j][40] = arr_de[i, j][3, 5]\n",
    "                    zz_de[i, j][41] = arr_de[i, j][2, 6]\n",
    "                    zz_de[i, j][42] = arr_de[i, j][1, 7]\n",
    "\n",
    "                    zz_de[i, j][43] = arr_de[i, j][2, 7]\n",
    "                    zz_de[i, j][44] = arr_de[i, j][3, 6]\n",
    "                    zz_de[i, j][45] = arr_de[i, j][4, 5]\n",
    "                    zz_de[i, j][46] = arr_de[i, j][5, 4]\n",
    "                    zz_de[i, j][47] = arr_de[i, j][6, 3]\n",
    "                    zz_de[i, j][48] = arr_de[i, j][7, 2]\n",
    "\n",
    "                    zz_de[i, j][49] = arr_de[i, j][7, 3]\n",
    "                    zz_de[i, j][50] = arr_de[i, j][6, 4]\n",
    "                    zz_de[i, j][51] = arr_de[i, j][5, 5]\n",
    "                    zz_de[i, j][52] = arr_de[i, j][4, 6]\n",
    "                    zz_de[i, j][53] = arr_de[i, j][3, 7]\n",
    "\n",
    "                    zz_de[i, j][54] = arr_de[i, j][4, 7]\n",
    "                    zz_de[i, j][55] = arr_de[i, j][5, 6]\n",
    "                    zz_de[i, j][56] = arr_de[i, j][6, 5]\n",
    "                    zz_de[i, j][57] = arr_de[i, j][7, 4]\n",
    "\n",
    "                    zz_de[i, j][58] = arr_de[i, j][7, 5]\n",
    "                    zz_de[i, j][59] = arr_de[i, j][6, 6]\n",
    "                    zz_de[i, j][60] = arr_de[i, j][5, 7]\n",
    "\n",
    "                    zz_de[i, j][61] = arr_de[i, j][6, 7]\n",
    "                    zz_de[i, j][62] = arr_de[i, j][7, 6]\n",
    "\n",
    "                    zz_de[i, j][63] = arr_de[i, j][7, 7]\n",
    "                # end of for (j)\n",
    "            # end of for (i)\n",
    "            list_coef_de.append(zz_de)\n",
    "        # end of for (c)\n",
    "        time_elapsed_de = time.time() - time_beg_de\n",
    "        print(\"[File: %s]\"%(os.path.basename(fpath)))\n",
    "        print(\"[Time] C-optimized: %f, Naive Python: %f\" \\\n",
    "              %(time_elapsed_zz, time_elapsed_de), end='\\n\\n')"
   ]
  }
 ],
 "metadata": {
  "kernelspec": {
   "display_name": "Python 3",
   "language": "python",
   "name": "python3"
  },
  "language_info": {
   "codemirror_mode": {
    "name": "ipython",
    "version": 3
   },
   "file_extension": ".py",
   "mimetype": "text/x-python",
   "name": "python",
   "nbconvert_exporter": "python",
   "pygments_lexer": "ipython3",
   "version": "3.7.1"
  }
 },
 "nbformat": 4,
 "nbformat_minor": 2
}
